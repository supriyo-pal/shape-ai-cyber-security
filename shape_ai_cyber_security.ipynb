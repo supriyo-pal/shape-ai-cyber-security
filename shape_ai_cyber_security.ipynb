{
  "nbformat": 4,
  "nbformat_minor": 0,
  "metadata": {
    "colab": {
      "name": "shape ai cyber security.ipynb",
      "provenance": []
    },
    "kernelspec": {
      "name": "python3",
      "display_name": "Python 3"
    },
    "language_info": {
      "name": "python"
    }
  },
  "cells": [
    {
      "cell_type": "code",
      "metadata": {
        "colab": {
          "base_uri": "https://localhost:8080/"
        },
        "id": "1UKZU-qY1pJ7",
        "outputId": "96b44cfb-6521-4ff3-faf6-f07699c4914c"
      },
      "source": [
        "import hashlib as hl\n",
        "print(hl.algorithms_available)"
      ],
      "execution_count": null,
      "outputs": [
        {
          "output_type": "stream",
          "text": [
            "{'sha3_224', 'blake2s', 'blake2b', 'md5', 'sha512', 'sha256', 'sha3_256', 'sha3_512', 'sha3_384', 'shake_256', 'sha1', 'sha224', 'sha384', 'shake_128'}\n"
          ],
          "name": "stdout"
        }
      ]
    },
    {
      "cell_type": "code",
      "metadata": {
        "colab": {
          "base_uri": "https://localhost:8080/"
        },
        "id": "axHQ55Hk17_s",
        "outputId": "39425696-bbc2-4943-ea2a-486b22976f2c"
      },
      "source": [
        "flag = \"supriyo\"\n",
        "result = hl.md5(flag.encode('utf-8')).hexdigest()\n",
        "print(\"The hashed result is\",result)"
      ],
      "execution_count": null,
      "outputs": [
        {
          "output_type": "stream",
          "text": [
            "The hashed result is 2cd37572da630cb4fbc3e0a70e18e6aa\n"
          ],
          "name": "stdout"
        }
      ]
    }
  ]
}